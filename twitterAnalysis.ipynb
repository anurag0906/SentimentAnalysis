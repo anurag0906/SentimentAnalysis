{
  "cells": [
    {
      "metadata": {
        "trusted": true,
        "scrolled": true
      },
      "cell_type": "code",
      "source": "!pip install tweepy",
      "execution_count": 1,
      "outputs": [
        {
          "output_type": "stream",
          "text": "Collecting tweepy\n  Downloading https://files.pythonhosted.org/packages/05/f1/2e8c7b202dd04117a378ac0c55cc7dafa80280ebd7f692f1fa8f27fd6288/tweepy-3.6.0-py2.py3-none-any.whl\nRequirement already satisfied: requests-oauthlib>=0.7.0 in /home/nbuser/anaconda3_501/lib/python3.6/site-packages (from tweepy) (1.0.0)\nRequirement already satisfied: PySocks>=1.5.7 in /home/nbuser/anaconda3_501/lib/python3.6/site-packages (from tweepy) (1.6.7)\nRequirement already satisfied: six>=1.10.0 in /home/nbuser/anaconda3_501/lib/python3.6/site-packages (from tweepy) (1.11.0)\nRequirement already satisfied: requests>=2.11.1 in /home/nbuser/anaconda3_501/lib/python3.6/site-packages (from tweepy) (2.19.1)\nRequirement already satisfied: oauthlib>=0.6.2 in /home/nbuser/anaconda3_501/lib/python3.6/site-packages (from requests-oauthlib>=0.7.0->tweepy) (2.1.0)\nRequirement already satisfied: chardet<3.1.0,>=3.0.2 in /home/nbuser/anaconda3_501/lib/python3.6/site-packages (from requests>=2.11.1->tweepy) (3.0.4)\nRequirement already satisfied: certifi>=2017.4.17 in /home/nbuser/anaconda3_501/lib/python3.6/site-packages (from requests>=2.11.1->tweepy) (2017.7.27.1)\nRequirement already satisfied: urllib3<1.24,>=1.21.1 in /home/nbuser/anaconda3_501/lib/python3.6/site-packages (from requests>=2.11.1->tweepy) (1.23)\nRequirement already satisfied: idna<2.8,>=2.5 in /home/nbuser/anaconda3_501/lib/python3.6/site-packages (from requests>=2.11.1->tweepy) (2.6)\nInstalling collected packages: tweepy\nSuccessfully installed tweepy-3.6.0\n",
          "name": "stdout"
        }
      ]
    },
    {
      "metadata": {
        "trusted": true
      },
      "cell_type": "code",
      "source": "\nimport tweepy\nconsumer_key = \"RAL5YnhHKufE97hhUnbiG3WDJ\"\nconsumer_secret = \"7WQdrtY9bpZ8bV96XXXeZzcLryuUlv4QyslvU0RwI8JtT4SjTK\"\naccess_token = \"4365890969-jb0yHRLR9RujkO9bp7R3csmBacQJmfJno5xbJlM\"\naccess_token_secret = \"gYk0OObWagJYW4DsMwMYRjINE2YZ81RBlzVttIDwdAZHd\"\n\nauthentication_info = tweepy.OAuthHandler(consumer_key, consumer_secret)\nauthentication_info.set_access_token(access_token, access_token_secret)\n\ntwitter_api = tweepy.API(authentication_info)\nspacex_tweets = twitter_api.search(\"#spacex\")\n\nfor tweet in spacex_tweets:\n    print(tweet.text)\n    \nfrom textblob import TextBlob\nsenti = TextBlob(tweet.text)\nprint(\"**********************************\")\n\nprint('Tweet- {0} | Polarity -{1} | Subjectivity -{2}'.format(tweet.text, senti.sentiment.polarity,    senti.sentiment.subjectivity))\n        \n\n\nprint(senti.sentiment)\n\nprint(\"**********************************\")\n\nif senti.polarity >0 and senti.polarity <0.5 :\n print(\"good\")\nelif senti.polarity >=0.5 and senti.polarity <=1 :\n print(\"That's awesome\")\nelif senti.polarity <=0 and senti.polarity <= -0.5 :\n print(\"That's sad\")\nelse :\n print(\"That's aweful\")",
      "execution_count": 24,
      "outputs": [
        {
          "output_type": "stream",
          "text": "RT @PDChina: US private space firm #SpaceX on Friday announced a new space tourism plan, saying it signed the world's first private passeng…\n@EricRWeinstein @elonmusk @joerogan .Because his Air Force contract prohibits it and he's jeopardizing his contract… https://t.co/V94By8ge7R\n#SpaceX: Announcement coming Monday about private passengers flying on BFR to Moon https://t.co/fPeB62yDI1 https://t.co/XJDapEXTmP\nRT @Ufologopedro1: RAYO \"GOLPEA\" OVNI EN HUNGRÍA. #Hungría #UFO #UFOs #Alien #Aliens #OVNI #Ovnis #rayo #Tormenta #ufosighting #ufosighting…\n#SpaceX signs first private passenger to fly around the #moon https://t.co/5MIAAo9Dkj …\n#SpaceX to announce moon flight identity https://t.co/5bt4Ol1Goc https://t.co/g6tu37EPnr\nRT @htTweets: #SpaceX announced it would send the world’s first two space tourists around the Moon in late 2018.\nhttps://t.co/zdKoe7uomo\n#New post #SpaceX to launch person around the moon in Big Falcon Rocket spaceship has been published on SAllBuzz -… https://t.co/zvk2TWQKHO\nMusk Signs Up First Passenger for Round-The-Moon Trip on #SpaceX https://t.co/n333HsL2A1\nRT @rajmathai: This is a big deal...\nOnly 24 humans have been to the Moon in history. No one has visited since the last Apollo mission in 1…\nRT @htTweets: #SpaceX announced it would send the world’s first two space tourists around the Moon in late 2018.\nhttps://t.co/zdKoe7uomo\nWho will it be? #SpaceX plans to reveal the first person it will take around the moon https://t.co/9aUiPtKfjW\nRT @NishiKazu_NKC: スペースXのBFR、尾翼が大きくなっている。良さげ。\n#SpaceX #BFR\nhttps://t.co/SXU5VlkfC8\nRT @STcom: #SpaceX announces new plan to send tourist around #Moon\nhttps://t.co/ofCTwtHdnn https://t.co/dGkj1A57zK\nRT @ovisdesign: In the near future, the aerospace industry will have new launch systems for the future spacecrafts as an alternative... Thi…\n**********************************\nTweet- RT @ovisdesign: In the near future, the aerospace industry will have new launch systems for the future spacecrafts as an alternative... Thi… | Polarity -0.05909090909090909 | Subjectivity -0.2761363636363636\nSentiment(polarity=0.05909090909090909, subjectivity=0.2761363636363636)\n**********************************\ngood\n",
          "name": "stdout"
        }
      ]
    },
    {
      "metadata": {
        "trusted": true
      },
      "cell_type": "code",
      "source": "import pandas as pd\nimport numpy as np\ntweet_list = []\n\nfor tweet in spacex_tweets:\n  analysis = TextBlob(tweet.text)\n    \n  if analysis.polarity >0 and senti.polarity <0.5 :\n   result =\"good\"\n  elif analysis.polarity >=0.5 and senti.polarity <=1 :\n   result =\"That's awesome\"\n  elif analysis.polarity <=0 and senti.polarity <= -0.5 :\n   result =\"That's sad\"\n  else :\n   result=\"That's aweful\"\n  \n        \n  tweet_list.append({'Text': tweet.text, 'Polarity': analysis.sentiment.polarity,\n    'Subjectivity':analysis.sentiment.subjectivity, 'Senti': result, })\n  tweet_df = pd.DataFrame(tweet_list)   \ntweet_df",
      "execution_count": 46,
      "outputs": [
        {
          "output_type": "execute_result",
          "execution_count": 46,
          "data": {
            "text/html": "<div>\n<style>\n    .dataframe thead tr:only-child th {\n        text-align: right;\n    }\n\n    .dataframe thead th {\n        text-align: left;\n    }\n\n    .dataframe tbody tr th {\n        vertical-align: top;\n    }\n</style>\n<table border=\"1\" class=\"dataframe\">\n  <thead>\n    <tr style=\"text-align: right;\">\n      <th></th>\n      <th>Polarity</th>\n      <th>Senti</th>\n      <th>Subjectivity</th>\n      <th>Text</th>\n    </tr>\n  </thead>\n  <tbody>\n    <tr>\n      <th>0</th>\n      <td>0.037273</td>\n      <td>good</td>\n      <td>0.387576</td>\n      <td>RT @PDChina: US private space firm #SpaceX on ...</td>\n    </tr>\n    <tr>\n      <th>1</th>\n      <td>0.000000</td>\n      <td>That's aweful</td>\n      <td>0.000000</td>\n      <td>@EricRWeinstein @elonmusk @joerogan .Because h...</td>\n    </tr>\n    <tr>\n      <th>2</th>\n      <td>0.000000</td>\n      <td>That's aweful</td>\n      <td>0.375000</td>\n      <td>#SpaceX: Announcement coming Monday about priv...</td>\n    </tr>\n    <tr>\n      <th>3</th>\n      <td>-0.250000</td>\n      <td>That's aweful</td>\n      <td>0.750000</td>\n      <td>RT @Ufologopedro1: RAYO \"GOLPEA\" OVNI EN HUNGR...</td>\n    </tr>\n    <tr>\n      <th>4</th>\n      <td>0.350000</td>\n      <td>good</td>\n      <td>0.536111</td>\n      <td>#SpaceX signs first private passenger to fly a...</td>\n    </tr>\n    <tr>\n      <th>5</th>\n      <td>0.000000</td>\n      <td>That's aweful</td>\n      <td>0.000000</td>\n      <td>#SpaceX to announce moon flight identity https...</td>\n    </tr>\n    <tr>\n      <th>6</th>\n      <td>-0.025000</td>\n      <td>That's aweful</td>\n      <td>0.466667</td>\n      <td>RT @htTweets: #SpaceX announced it would send ...</td>\n    </tr>\n    <tr>\n      <th>7</th>\n      <td>0.068182</td>\n      <td>good</td>\n      <td>0.277273</td>\n      <td>#New post #SpaceX to launch person around the ...</td>\n    </tr>\n    <tr>\n      <th>8</th>\n      <td>0.250000</td>\n      <td>good</td>\n      <td>0.333333</td>\n      <td>Musk Signs Up First Passenger for Round-The-Mo...</td>\n    </tr>\n    <tr>\n      <th>9</th>\n      <td>0.000000</td>\n      <td>That's aweful</td>\n      <td>0.388889</td>\n      <td>RT @rajmathai: This is a big deal...\\nOnly 24 ...</td>\n    </tr>\n    <tr>\n      <th>10</th>\n      <td>-0.025000</td>\n      <td>That's aweful</td>\n      <td>0.466667</td>\n      <td>RT @htTweets: #SpaceX announced it would send ...</td>\n    </tr>\n    <tr>\n      <th>11</th>\n      <td>0.250000</td>\n      <td>good</td>\n      <td>0.333333</td>\n      <td>Who will it be? #SpaceX plans to reveal the fi...</td>\n    </tr>\n    <tr>\n      <th>12</th>\n      <td>0.000000</td>\n      <td>That's aweful</td>\n      <td>0.000000</td>\n      <td>RT @NishiKazu_NKC: スペースXのBFR、尾翼が大きくなっている。良さげ。\\...</td>\n    </tr>\n    <tr>\n      <th>13</th>\n      <td>0.136364</td>\n      <td>good</td>\n      <td>0.454545</td>\n      <td>RT @STcom: #SpaceX announces new plan to send ...</td>\n    </tr>\n    <tr>\n      <th>14</th>\n      <td>0.059091</td>\n      <td>good</td>\n      <td>0.276136</td>\n      <td>RT @ovisdesign: In the near future, the aerosp...</td>\n    </tr>\n  </tbody>\n</table>\n</div>",
            "text/plain": "    Polarity          Senti  Subjectivity  \\\n0   0.037273           good      0.387576   \n1   0.000000  That's aweful      0.000000   \n2   0.000000  That's aweful      0.375000   \n3  -0.250000  That's aweful      0.750000   \n4   0.350000           good      0.536111   \n5   0.000000  That's aweful      0.000000   \n6  -0.025000  That's aweful      0.466667   \n7   0.068182           good      0.277273   \n8   0.250000           good      0.333333   \n9   0.000000  That's aweful      0.388889   \n10 -0.025000  That's aweful      0.466667   \n11  0.250000           good      0.333333   \n12  0.000000  That's aweful      0.000000   \n13  0.136364           good      0.454545   \n14  0.059091           good      0.276136   \n\n                                                 Text  \n0   RT @PDChina: US private space firm #SpaceX on ...  \n1   @EricRWeinstein @elonmusk @joerogan .Because h...  \n2   #SpaceX: Announcement coming Monday about priv...  \n3   RT @Ufologopedro1: RAYO \"GOLPEA\" OVNI EN HUNGR...  \n4   #SpaceX signs first private passenger to fly a...  \n5   #SpaceX to announce moon flight identity https...  \n6   RT @htTweets: #SpaceX announced it would send ...  \n7   #New post #SpaceX to launch person around the ...  \n8   Musk Signs Up First Passenger for Round-The-Mo...  \n9   RT @rajmathai: This is a big deal...\\nOnly 24 ...  \n10  RT @htTweets: #SpaceX announced it would send ...  \n11  Who will it be? #SpaceX plans to reveal the fi...  \n12  RT @NishiKazu_NKC: スペースXのBFR、尾翼が大きくなっている。良さげ。\\...  \n13  RT @STcom: #SpaceX announces new plan to send ...  \n14  RT @ovisdesign: In the near future, the aerosp...  "
          },
          "metadata": {}
        }
      ]
    },
    {
      "metadata": {
        "trusted": true
      },
      "cell_type": "code",
      "source": "print (\"Polarity Stats\")\nprint (\"Avg\", tweet_df[\"Polarity\"].mean())\nprint (\"Max\", tweet_df[\"Polarity\"].max())\nprint (\"Min\", tweet_df[\"Polarity\"].min())\nprint (\"Subjectivity Stats\")\nprint (\"Avg\", tweet_df[\"Subjectivity\"].mean())\nprint (\"Max\", tweet_df[\"Subjectivity\"].max())\nprint (\"Min\", tweet_df[\"Subjectivity\"].min())",
      "execution_count": 47,
      "outputs": [
        {
          "output_type": "stream",
          "text": "Polarity Stats\nAvg 0.05672727272727273\nMax 0.35000000000000003\nMin -0.25\nSubjectivity Stats\nAvg 0.3363686868686869\nMax 0.75\nMin 0.0\n",
          "name": "stdout"
        }
      ]
    },
    {
      "metadata": {
        "trusted": true
      },
      "cell_type": "code",
      "source": "",
      "execution_count": null,
      "outputs": []
    }
  ],
  "metadata": {
    "kernelspec": {
      "name": "python36",
      "display_name": "Python 3.6",
      "language": "python"
    },
    "language_info": {
      "mimetype": "text/x-python",
      "nbconvert_exporter": "python",
      "name": "python",
      "pygments_lexer": "ipython3",
      "version": "3.6.3",
      "file_extension": ".py",
      "codemirror_mode": {
        "version": 3,
        "name": "ipython"
      }
    }
  },
  "nbformat": 4,
  "nbformat_minor": 2
}